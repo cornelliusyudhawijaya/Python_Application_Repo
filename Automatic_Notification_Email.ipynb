{
 "cells": [
  {
   "cell_type": "markdown",
   "metadata": {},
   "source": [
    "# This Notebook is code to accompany article Automatic Notification to Email with Python\n",
    "\n",
    "Article: https://towardsdatascience.com/automatic-notification-to-email-with-python-810fd357d89c?sk=7f8636d27b728b32d22de011560eae6d"
   ]
  },
  {
   "cell_type": "code",
   "execution_count": 1,
   "metadata": {
    "ExecuteTime": {
     "end_time": "2020-06-13T14:02:14.412715Z",
     "start_time": "2020-06-13T14:02:13.935907Z"
    }
   },
   "outputs": [],
   "source": [
    "import pickle\n",
    "import os.path\n",
    "from googleapiclient.discovery import build\n",
    "from google_auth_oauthlib.flow import InstalledAppFlow\n",
    "from google.auth.transport.requests import Request\n",
    "\n",
    "from email import encoders\n",
    "from email.mime.base import MIMEBase\n",
    "from email.mime.multipart import MIMEMultipart\n",
    "from email.mime.text import MIMEText\n",
    "import base64\n",
    "import os\n",
    "\n",
    "def create_message(sender, to, subject, message_text):\n",
    "  \"\"\"Create a message for an email.\n",
    "\n",
    "  Args:\n",
    "    sender: Email address of the sender.\n",
    "    to: Email address of the receiver.\n",
    "    subject: The subject of the email message.\n",
    "    message_text: The text of the email message.\n",
    "\n",
    "  Returns:\n",
    "    An object containing a base64url encoded email object.\n",
    "  \"\"\"\n",
    "  message = MIMEText(message_text)\n",
    "  message['to'] = to\n",
    "  message['from'] = sender\n",
    "  message['subject'] = subject\n",
    "  return {'raw': base64.urlsafe_b64encode(message.as_string().encode()).decode()}\n",
    "\n",
    "\n",
    "\n",
    "def send_message(service, user_id, message):\n",
    "  \"\"\"Send an email message.\n",
    "\n",
    "  Args:\n",
    "    service: Authorized Gmail API service instance.\n",
    "    user_id: User's email address. The special value \"me\"\n",
    "    can be used to indicate the authenticated user.\n",
    "    message: Message to be sent.\n",
    "\n",
    "  Returns:\n",
    "    Sent Message.\n",
    "  \"\"\"\n",
    "  try:\n",
    "    message = (service.users().messages().send(userId=user_id, body=message)\n",
    "               .execute())\n",
    "    print('Message Id: %s' % message['id'])\n",
    "    return message\n",
    "  except:\n",
    "    print ('An error occurred')"
   ]
  },
  {
   "cell_type": "code",
   "execution_count": 4,
   "metadata": {
    "ExecuteTime": {
     "end_time": "2020-06-13T14:12:25.673133Z",
     "start_time": "2020-06-13T14:12:25.666154Z"
    }
   },
   "outputs": [],
   "source": [
    "def notification(sender, to, subject, notification):\n",
    "\n",
    "    SCOPES = 'https://mail.google.com/'\n",
    "    message = create_message(sender, to, subject, notification)\n",
    "    creds = None\n",
    "\n",
    "    if os.path.exists('token.pickle'):\n",
    "        with open('token.pickle', 'rb') as token:\n",
    "            creds = pickle.load(token)\n",
    "        # If there are no (valid) credentials available, let the user log in.\n",
    "    if not creds or not creds.valid:\n",
    "        if creds and creds.expired and creds.refresh_token:\n",
    "            creds.refresh(Request())\n",
    "        else:\n",
    "            flow = InstalledAppFlow.from_client_secrets_file('credentials.json', SCOPES)\n",
    "            creds = flow.run_local_server(port=0)\n",
    "            # Save the credentials for the next run\n",
    "        with open('token.pickle', 'wb') as token:\n",
    "            pickle.dump(creds, token)\n",
    "\n",
    "    service = build('gmail', 'v1', credentials=creds)\n",
    "    send_message(service, sender, message)"
   ]
  },
  {
   "cell_type": "code",
   "execution_count": 17,
   "metadata": {
    "ExecuteTime": {
     "end_time": "2020-06-13T14:50:59.373691Z",
     "start_time": "2020-06-13T14:50:57.964882Z"
    }
   },
   "outputs": [
    {
     "name": "stdout",
     "output_type": "stream",
     "text": [
      "Message Id: 172ae298cd3c8ec8\n"
     ]
    }
   ],
   "source": [
    "from sklearn.linear_model import LinearRegression\n",
    "mpg = sns.load_dataset('mpg').drop(['origin', 'name'], axis = 1)\n",
    "linear_model = LinearRegression()\n",
    "\n",
    "try:\n",
    "    linear_model.fit(mpg.drop('mpg', axis =1), mpg['mpg'])\n",
    "    notification('cornelliusyudhaw@gmail.com', 'cornelliusyudhaw@gmail.com', 'Notification - Success Training', 'The model has finish')\n",
    "except:\n",
    "    notification('cornelliusyudhaw@gmail.com', 'cornelliusyudhaw@gmail.com', 'Notification - Failed Training', 'The model encountered error')\n",
    "    "
   ]
  },
  {
   "cell_type": "code",
   "execution_count": null,
   "metadata": {},
   "outputs": [],
   "source": []
  }
 ],
 "metadata": {
  "hide_input": false,
  "kernelspec": {
   "display_name": "Python 3",
   "language": "python",
   "name": "python3"
  },
  "language_info": {
   "codemirror_mode": {
    "name": "ipython",
    "version": 3
   },
   "file_extension": ".py",
   "mimetype": "text/x-python",
   "name": "python",
   "nbconvert_exporter": "python",
   "pygments_lexer": "ipython3",
   "version": "3.8.8"
  },
  "varInspector": {
   "cols": {
    "lenName": 16,
    "lenType": 16,
    "lenVar": 40
   },
   "kernels_config": {
    "python": {
     "delete_cmd_postfix": "",
     "delete_cmd_prefix": "del ",
     "library": "var_list.py",
     "varRefreshCmd": "print(var_dic_list())"
    },
    "r": {
     "delete_cmd_postfix": ") ",
     "delete_cmd_prefix": "rm(",
     "library": "var_list.r",
     "varRefreshCmd": "cat(var_dic_list()) "
    }
   },
   "types_to_exclude": [
    "module",
    "function",
    "builtin_function_or_method",
    "instance",
    "_Feature"
   ],
   "window_display": false
  }
 },
 "nbformat": 4,
 "nbformat_minor": 4
}
